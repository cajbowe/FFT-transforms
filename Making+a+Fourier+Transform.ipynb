{
 "cells": [
  {
   "cell_type": "markdown",
   "metadata": {},
   "source": [
    "# Fourier transforms and Time-Frequency analyses\n",
    "\n",
    "Note: if you go up to the dropdown box up top and switch to \"Markdown\" you can start typing normal text. That being said, great job commenting the code!"
   ]
  },
  {
   "cell_type": "code",
   "execution_count": 2,
   "metadata": {
    "collapsed": false
   },
   "outputs": [
    {
     "data": {
      "text/plain": [
       "[<matplotlib.lines.Line2D at 0x7fd0e455fda0>]"
      ]
     },
     "execution_count": 2,
     "metadata": {},
     "output_type": "execute_result"
    },
    {
     "data": {
      "image/png": "iVBORw0KGgoAAAANSUhEUgAAAXYAAAD8CAYAAABjAo9vAAAABHNCSVQICAgIfAhkiAAAAAlwSFlz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\nzCejAAAAAElFTkSuQmCC\n",
      "text/plain": [
       "<matplotlib.figure.Figure at 0x7fd10c37f438>"
      ]
     },
     "metadata": {},
     "output_type": "display_data"
    }
   ],
   "source": [
    "#Make code more friendly for graphs containing multiple waves\n",
    "import matplotlib.pyplot as plot\n",
    "import numpy as np\n",
    "\n",
    "sr = 1000 #This represents the sample rate\n",
    "Hz = 3 # This represents the frequency\n",
    "x = np.arange(sr) # This is for the x axis of the graph \n",
    "y = 4.0*np.sin(2*np.pi*Hz*(x/sr)) +  np.sin(2*np.pi*Hz*(x/sr)) +  2.0*np.cos(2*np.pi*Hz*(x/sr)) #This is the function for our graph sin(2*pi*frequency*time)\n",
    "% matplotlib inline\n",
    "plot.plot(x,y)"
   ]
  },
  {
   "cell_type": "code",
   "execution_count": null,
   "metadata": {
    "collapsed": false
   },
   "outputs": [],
   "source": []
  },
  {
   "cell_type": "code",
   "execution_count": null,
   "metadata": {
    "collapsed": false
   },
   "outputs": [],
   "source": [
    "\n"
   ]
  },
  {
   "cell_type": "code",
   "execution_count": 3,
   "metadata": {
    "collapsed": false
   },
   "outputs": [],
   "source": [
    "import matplotlib.pyplot as plot\n",
    "import numpy as np\n",
    " \n",
    "sr = 100 #This represents the sample rate\n",
    "Hz = 30 # This represents the frequency, redund\n",
    "x = np.arange(sr) # This is for the x axis of the graph \n",
    "y = 4.0*np.sin(2*np.pi*54*(x/sr)) +  np.sin(2*np.pi*12*(x/sr)) +  2.0*np.cos(2*np.pi*41*(x/sr)) #This is the function for our graph sin(2*pi*frequency*time)"
   ]
  },
  {
   "cell_type": "code",
   "execution_count": 4,
   "metadata": {
    "collapsed": false,
    "scrolled": true
   },
   "outputs": [
    {
     "data": {
      "text/plain": [
       "[<matplotlib.lines.Line2D at 0x7fd0e44ae588>]"
      ]
     },
     "execution_count": 4,
     "metadata": {},
     "output_type": "execute_result"
    },
    {
     "data": {
      "image/png": "iVBORw0KGgoAAAANSUhEUgAAAYUAAAEKCAYAAAD9xUlFAAAABHNCSVQICAgIfAhkiAAAAAlwSFlz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\nAAAASUVORK5CYII=\n",
      "text/plain": [
       "<matplotlib.figure.Figure at 0x7fd0e4517390>"
      ]
     },
     "metadata": {},
     "output_type": "display_data"
    }
   ],
   "source": [
    "fft_output = np.fft.rfft(y)\n",
    "Amplitude = [np.sqrt(i.real**2 + i.imag**2)/len(fft_output) for i in fft_output]\n",
    "Fq = [(i*1.0/100)*sr for i in range(100//2+1)]\n",
    "plot.xlabel('Frequency')\n",
    "plot.ylabel('Amplitude')\n",
    "plot.plot(Fq, Amplitude, 'r')"
   ]
  },
  {
   "cell_type": "markdown",
   "metadata": {
    "collapsed": true
   },
   "source": [
    "## A non-stationary signal\n",
    "\n",
    "Next up is a challenge: here's a signal that we know doesn't \"stay the same\" throughout the whole time we're collecting data.\n",
    "\n",
    "We'll take this in two steps:\n",
    "\n",
    "* Do FFT of whole segment\n",
    "* Do Spectrogram (a type of short-time fourier transform) of the whole segment\n"
   ]
  },
  {
   "cell_type": "code",
   "execution_count": 10,
   "metadata": {
    "collapsed": false
   },
   "outputs": [
    {
     "name": "stderr",
     "output_type": "stream",
     "text": [
      "/usr/lib/python3.6/site-packages/ipykernel/__main__.py:10: VisibleDeprecationWarning: using a non-integer number instead of an integer will result in an error in the future\n"
     ]
    },
    {
     "ename": "NameError",
     "evalue": "name 'second_wave' is not defined",
     "output_type": "error",
     "traceback": [
      "\u001b[0;31m---------------------------------------------------------------------------\u001b[0m",
      "\u001b[0;31mNameError\u001b[0m                                 Traceback (most recent call last)",
      "\u001b[0;32m<ipython-input-10-8b1569344648>\u001b[0m in \u001b[0;36m<module>\u001b[0;34m()\u001b[0m\n\u001b[1;32m      9\u001b[0m \u001b[0my\u001b[0m \u001b[0;34m=\u001b[0m \u001b[0;36m4.0\u001b[0m\u001b[0;34m*\u001b[0m\u001b[0mnp\u001b[0m\u001b[0;34m.\u001b[0m\u001b[0msin\u001b[0m\u001b[0;34m(\u001b[0m\u001b[0;36m2\u001b[0m\u001b[0;34m*\u001b[0m\u001b[0mnp\u001b[0m\u001b[0;34m.\u001b[0m\u001b[0mpi\u001b[0m\u001b[0;34m*\u001b[0m\u001b[0mfirst_wave\u001b[0m\u001b[0;34m*\u001b[0m\u001b[0mx\u001b[0m\u001b[0;34m)\u001b[0m\u001b[0;34m\u001b[0m\u001b[0m\n\u001b[1;32m     10\u001b[0m \u001b[0my\u001b[0m\u001b[0;34m[\u001b[0m\u001b[0mbsize\u001b[0m\u001b[0;34m/\u001b[0m\u001b[0;36m2\u001b[0m\u001b[0;34m:\u001b[0m\u001b[0;34m]\u001b[0m \u001b[0;34m=\u001b[0m \u001b[0mnp\u001b[0m\u001b[0;34m.\u001b[0m\u001b[0mzeros\u001b[0m\u001b[0;34m(\u001b[0m\u001b[0mbsize\u001b[0m\u001b[0;34m/\u001b[0m\u001b[0;36m2\u001b[0m\u001b[0;34m)\u001b[0m \u001b[0;31m#we're going to zero out half of the y we just computed\u001b[0m\u001b[0;34m\u001b[0m\u001b[0m\n\u001b[0;32m---> 11\u001b[0;31m \u001b[0my\u001b[0m\u001b[0;34m[\u001b[0m\u001b[0mbsize\u001b[0m\u001b[0;34m/\u001b[0m\u001b[0;36m2\u001b[0m\u001b[0;34m:\u001b[0m\u001b[0;34m]\u001b[0m \u001b[0;34m=\u001b[0m \u001b[0;36m10\u001b[0m \u001b[0;34m*\u001b[0m \u001b[0mnp\u001b[0m\u001b[0;34m.\u001b[0m\u001b[0msin\u001b[0m\u001b[0;34m(\u001b[0m\u001b[0;36m2\u001b[0m \u001b[0;34m*\u001b[0m \u001b[0mnp\u001b[0m\u001b[0;34m.\u001b[0m\u001b[0mpi\u001b[0m \u001b[0;34m*\u001b[0m \u001b[0msecond_wave\u001b[0m \u001b[0;34m*\u001b[0m \u001b[0mx\u001b[0m\u001b[0;34m[\u001b[0m\u001b[0mbsize\u001b[0m\u001b[0;34m/\u001b[0m\u001b[0;36m2\u001b[0m\u001b[0;34m:\u001b[0m\u001b[0;34m]\u001b[0m\u001b[0;34m)\u001b[0m\u001b[0;34m\u001b[0m\u001b[0m\n\u001b[0m\u001b[1;32m     12\u001b[0m \u001b[0;34m\u001b[0m\u001b[0m\n\u001b[1;32m     13\u001b[0m \u001b[0mget_ipython\u001b[0m\u001b[0;34m(\u001b[0m\u001b[0;34m)\u001b[0m\u001b[0;34m.\u001b[0m\u001b[0mmagic\u001b[0m\u001b[0;34m(\u001b[0m\u001b[0;34m'matplotlib inline'\u001b[0m\u001b[0;34m)\u001b[0m\u001b[0;34m\u001b[0m\u001b[0m\n",
      "\u001b[0;31mNameError\u001b[0m: name 'second_wave' is not defined"
     ]
    }
   ],
   "source": [
    "sr = 1000 #This represents the sample rate\n",
    "sec_col = 10 #this is the number of seconds collected\n",
    "#So, the total number of samples we collect is 1000 samples/second * 10 seconds\n",
    "bsize = sr * sec_col\n",
    "\n",
    "first_wave = 3 # This represents the frequency\n",
    "x = np.linspace(0,sec_col,bsize)\n",
    "\n",
    "y = 4.0*np.sin(2*np.pi*first_wave*x)\n",
    "second_wave = 16\n",
    "y[bsize/2:] = np.zeros(bsize/2) #we're going to zero out half of the y we just computed\n",
    "y[bsize/2:] = 10 * np.sin(2 * np.pi * second_wave * x[bsize/2:])\n",
    "\n",
    "% matplotlib inline\n",
    "plot.plot(x,y)"
   ]
  }
 ],
 "metadata": {
  "kernelspec": {
   "display_name": "Python 3",
   "language": "python",
   "name": "python3"
  },
  "language_info": {
   "codemirror_mode": {
    "name": "ipython",
    "version": 3
   },
   "file_extension": ".py",
   "mimetype": "text/x-python",
   "name": "python",
   "nbconvert_exporter": "python",
   "pygments_lexer": "ipython3",
   "version": "3.6.0"
  }
 },
 "nbformat": 4,
 "nbformat_minor": 1
  }
   ],
   "source": [
   "fft_output = np.fft.rfft(y)
   "Amplitude = [np.sqrt(i.real**2 + i.imag**2)/len(fft_output) for i in fft_output]
   "Fq = [(i*1.0/bsize)*sr for i in range(bsize//2+1)] 
   "plot.xlabel('Frequency')
   "plot.ylabel('Amplitude')
   "plot.plot(Fq, Amplitude, 'r')
   "plot.axis([0,30,0,10])
   
